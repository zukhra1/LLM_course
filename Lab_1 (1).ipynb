{
 "cells": [
  {
   "cell_type": "markdown",
   "metadata": {
    "id": "73JHBwym-IfY"
   },
   "source": [
    "## Week 6 : Large Language Models\n",
    "```\n",
    "- Generative Artificial Intelligence (Fall semester 2023)\n",
    "- Professor: Muhammad Fahim\n",
    "- Teaching Assistant: Ahmad Taha\n",
    "```\n",
    "<hr>\n",
    "\n",
    "## Contents\n",
    "```\n",
    "1. Transformers (Implementing a transformer)\n",
    "2. Self-Attention\n",
    "3. Multi-headed attention\n",
    "4. Positional Encoding\n",
    "\n",
    "```\n",
    "\n",
    "<hr>\n"
   ]
  },
  {
   "cell_type": "markdown",
   "metadata": {
    "id": "ivBBW705o6JG"
   },
   "source": [
    "# Transformers\n",
    "\n",
    "* [Attention Is All You Need](https://arxiv.org/pdf/1706.03762.pdf) -- Original paper on attention\n",
    "\n",
    "![](https://jalammar.github.io/images/t/The_transformer_encoder_decoder_stack.png)\n"
   ]
  },
  {
   "cell_type": "code",
   "execution_count": 1,
   "metadata": {
    "colab": {
     "base_uri": "https://localhost:8080/"
    },
    "id": "PkzgoQHBzCsS",
    "outputId": "cd5cb229-e10e-45c2-e63e-3415202244eb",
    "ExecuteTime": {
     "end_time": "2024-06-05T15:50:56.436792Z",
     "start_time": "2024-06-05T15:50:55.107671Z"
    }
   },
   "outputs": [],
   "source": [
    "import torch\n",
    "from torch import nn\n",
    "import torch.optim as optim\n",
    "import numpy as np\n",
    "\n",
    "from torch.utils.data import DataLoader\n",
    "\n",
    "device = torch.device('cuda' if torch.cuda.is_available() else 'cpu')\n",
    "if device == 'cuda' and torch.cuda.get_device_capability() == (8, 9):\n",
    "    torch.backends.cudnn.allow_tf32 = True\n",
    "    torch.backends.cuda.matmul.allow_tf32 = True"
   ]
  },
  {
   "cell_type": "markdown",
   "metadata": {
    "id": "gqbWEqEG04nj"
   },
   "source": [
    "### Transformer Encoder with Pytorch"
   ]
  },
  {
   "cell_type": "code",
   "execution_count": 2,
   "metadata": {
    "id": "bqvnRd4zASjV",
    "colab": {
     "base_uri": "https://localhost:8080/"
    },
    "outputId": "b03123ca-fe55-4e72-ea9e-8a418db709d0",
    "ExecuteTime": {
     "end_time": "2024-06-05T15:50:56.464960Z",
     "start_time": "2024-06-05T15:50:56.437969Z"
    }
   },
   "outputs": [
    {
     "name": "stderr",
     "output_type": "stream",
     "text": [
      "C:\\Users\\sasha\\AppData\\Roaming\\Python\\Python311\\site-packages\\torch\\nn\\modules\\transformer.py:286: UserWarning: enable_nested_tensor is True, but self.use_nested_tensor is False because encoder_layer.self_attn.batch_first was not True(use batch_first for better inference performance)\n",
      "  warnings.warn(f\"enable_nested_tensor is True, but self.use_nested_tensor is False because {why_not_sparsity_fast_path}\")\n"
     ]
    }
   ],
   "source": [
    "encoder_layer = nn.TransformerEncoderLayer(d_model=512, nhead=32)\n",
    "transformer_encoder = nn.TransformerEncoder(encoder_layer, num_layers=3)"
   ]
  },
  {
   "cell_type": "code",
   "execution_count": 3,
   "metadata": {
    "colab": {
     "base_uri": "https://localhost:8080/"
    },
    "id": "mmaOP-5BAiVG",
    "outputId": "6186f544-8b78-4bdb-d9bb-647a97e0ac78",
    "ExecuteTime": {
     "end_time": "2024-06-05T15:50:56.470300Z",
     "start_time": "2024-06-05T15:50:56.464960Z"
    }
   },
   "outputs": [
    {
     "data": {
      "text/plain": "TransformerEncoderLayer(\n  (self_attn): MultiheadAttention(\n    (out_proj): NonDynamicallyQuantizableLinear(in_features=512, out_features=512, bias=True)\n  )\n  (linear1): Linear(in_features=512, out_features=2048, bias=True)\n  (dropout): Dropout(p=0.1, inplace=False)\n  (linear2): Linear(in_features=2048, out_features=512, bias=True)\n  (norm1): LayerNorm((512,), eps=1e-05, elementwise_affine=True)\n  (norm2): LayerNorm((512,), eps=1e-05, elementwise_affine=True)\n  (dropout1): Dropout(p=0.1, inplace=False)\n  (dropout2): Dropout(p=0.1, inplace=False)\n)"
     },
     "execution_count": 3,
     "metadata": {},
     "output_type": "execute_result"
    }
   ],
   "source": [
    "encoder_layer"
   ]
  },
  {
   "cell_type": "markdown",
   "metadata": {
    "id": "ETf4hBGZBmB6"
   },
   "source": [
    "## Encoder\n",
    "\n",
    "The encoder contains a self-attention layer – a layer that helps the encoder look at other words in the input sentence as it encodes a specific word. <br>\n",
    "**The main goal is to efficiently encode the data**\n",
    "\n",
    "![](https://jalammar.github.io/images/t/encoder_with_tensors.png)"
   ]
  },
  {
   "cell_type": "markdown",
   "metadata": {
    "id": "7MQv6sV8CHcb"
   },
   "source": [
    "## Self-Attention\n",
    "\n",
    "**Keep in mind : The main goal is to encode the data in a much more efficient way** In other words is to create meaningful embeddings<br>\n",
    "- As the model processes each word (each position in the input sequence), self attention allows it to look at other positions in the input sequence for clues that can help lead to a better encoding for this word.\n",
    "\n",
    "\n",
    "**How does Self-Attention work?**\n",
    "\n",
    "Steps:\n",
    "1. For each word, we create a **`Query`** vector, a **`Key`** vector, and a **`Value`** vector.\n",
    "  - What are the **`Query`** vector, a **`Key`** vector, and a **`Value`** vector? : They’re abstractions that are useful for calculating attention... They are a breakdown of the word embeddings\n",
    "2. Calculating self-attention score from **`Query`** **`Key`** vector.\n",
    "3. Divide the scores by 8 (This leads to having more stable gradients)\n",
    "4. Pass the result through a softmax operation (softmax score determines how much each word will be expressed at this position)\n",
    "5. Multiply each value vector by the softmax score\n",
    "6. Sum up the weighted value vectors"
   ]
  },
  {
   "cell_type": "markdown",
   "metadata": {
    "id": "2RevROKUGFOX"
   },
   "source": [
    "### Step 1\n",
    "\n",
    "For each word, we create a **`Query`** vector, a **`Key`** vector, and a **`Value`** vector.\n",
    "\n",
    "![](https://jalammar.github.io/images/t/transformer_self_attention_vectors.png)"
   ]
  },
  {
   "cell_type": "code",
   "execution_count": 4,
   "metadata": {
    "id": "YDahLOTBDVDP",
    "ExecuteTime": {
     "end_time": "2024-06-05T15:50:56.475535Z",
     "start_time": "2024-06-05T15:50:56.471328Z"
    }
   },
   "outputs": [],
   "source": [
    "# simple sequence = I am here today\n",
    "simple_sequence_embedding = torch.rand((4, 512))\n",
    "\n",
    "# Create weight matrices\n",
    "Wq = torch.normal(0,0.5, (512, 7))\n",
    "Wk = torch.normal(0,0.1, (512, 7))\n",
    "Wv = torch.normal(0,0.2, (512, 7))\n",
    "\n",
    "# Create key, query and value for each word in the sentence\n",
    "queries = simple_sequence_embedding.mm(Wq) # self.q(embedding[0])\n",
    "keys = simple_sequence_embedding.mm(Wk)\n",
    "values = simple_sequence_embedding.mm(Wv)"
   ]
  },
  {
   "cell_type": "code",
   "execution_count": 5,
   "metadata": {
    "colab": {
     "base_uri": "https://localhost:8080/"
    },
    "id": "a2dceawSN2PQ",
    "outputId": "77229293-d009-465f-ec00-f5c0bc9d86ec",
    "ExecuteTime": {
     "end_time": "2024-06-05T15:50:56.481515Z",
     "start_time": "2024-06-05T15:50:56.476572Z"
    }
   },
   "outputs": [
    {
     "data": {
      "text/plain": "tensor([[ 1.6052, -3.8989, -0.7531, -0.4571,  1.2529, -0.2081,  0.5482],\n        [ 1.2754, -4.9893, -2.1040, -1.7813,  0.6639,  0.7603, -2.5360],\n        [ 2.8437, -3.7253, -1.4510, -0.8591,  1.4602,  0.5691,  0.0834],\n        [ 1.8928, -3.8759, -0.4620, -0.2733,  1.1453,  1.6806, -0.4924]])"
     },
     "execution_count": 5,
     "metadata": {},
     "output_type": "execute_result"
    }
   ],
   "source": [
    "values"
   ]
  },
  {
   "cell_type": "code",
   "execution_count": 6,
   "metadata": {
    "colab": {
     "base_uri": "https://localhost:8080/"
    },
    "id": "FhXQl2p8Nzp_",
    "outputId": "a916096a-f073-4938-d3dd-e9d541e52a7c",
    "ExecuteTime": {
     "end_time": "2024-06-05T15:50:56.486576Z",
     "start_time": "2024-06-05T15:50:56.482524Z"
    }
   },
   "outputs": [
    {
     "data": {
      "text/plain": "tensor([[0.9545, 0.2798, 0.6141,  ..., 0.1324, 0.4002, 0.6925],\n        [0.6416, 0.6378, 0.8987,  ..., 0.4014, 0.5579, 0.2450],\n        [0.7381, 0.3119, 0.0423,  ..., 0.4103, 0.6839, 0.8435],\n        [0.9289, 0.7648, 0.7132,  ..., 0.2431, 0.8856, 0.1126]])"
     },
     "execution_count": 6,
     "metadata": {},
     "output_type": "execute_result"
    }
   ],
   "source": [
    "simple_sequence_embedding"
   ]
  },
  {
   "cell_type": "markdown",
   "metadata": {
    "id": "gueARUu0KFVm"
   },
   "source": [
    "## Step 2\n",
    "\n",
    "Calculating self-attention score from **`Query`** and **`Key`** vector"
   ]
  },
  {
   "cell_type": "code",
   "execution_count": 7,
   "metadata": {
    "colab": {
     "base_uri": "https://localhost:8080/"
    },
    "id": "6TwUclKXLN14",
    "outputId": "49cb0e0f-0e59-46d2-cf72-0b62873ec904",
    "ExecuteTime": {
     "end_time": "2024-06-05T15:50:56.490728Z",
     "start_time": "2024-06-05T15:50:56.486576Z"
    }
   },
   "outputs": [
    {
     "data": {
      "text/plain": "tensor([[-22.1915,   2.1136, -15.5802,  -1.3507],\n        [-15.8428,   3.9678,  -4.8737,   5.3507],\n        [-12.7668,   3.9183, -14.0355,  14.3720],\n        [-40.4224, -15.3155, -34.0705,  -5.9985]])"
     },
     "execution_count": 7,
     "metadata": {},
     "output_type": "execute_result"
    }
   ],
   "source": [
    "scores = torch.mm(queries, keys.T)\n",
    "scores"
   ]
  },
  {
   "cell_type": "markdown",
   "metadata": {
    "id": "FZugp0egQEPQ"
   },
   "source": [
    "## Step 3\n",
    "Divide the scores by 8 (This leads to having more stable gradients)"
   ]
  },
  {
   "cell_type": "code",
   "execution_count": 8,
   "metadata": {
    "colab": {
     "base_uri": "https://localhost:8080/"
    },
    "id": "gA1G9MmeQPuP",
    "outputId": "1f2fcf78-de48-4987-d17d-4c2a56e6a7c6",
    "ExecuteTime": {
     "end_time": "2024-06-05T15:50:56.495436Z",
     "start_time": "2024-06-05T15:50:56.490728Z"
    }
   },
   "outputs": [
    {
     "data": {
      "text/plain": "tensor([[-2.7739,  0.2642, -1.9475, -0.1688],\n        [-1.9803,  0.4960, -0.6092,  0.6688],\n        [-1.5958,  0.4898, -1.7544,  1.7965],\n        [-5.0528, -1.9144, -4.2588, -0.7498]])"
     },
     "execution_count": 8,
     "metadata": {},
     "output_type": "execute_result"
    }
   ],
   "source": [
    "scores = scores / 8\n",
    "scores"
   ]
  },
  {
   "cell_type": "markdown",
   "metadata": {
    "id": "a-MZsAkWQWlp"
   },
   "source": [
    "## Step 4\n",
    "\n",
    "Pass the result through a softmax operation"
   ]
  },
  {
   "cell_type": "code",
   "execution_count": 9,
   "metadata": {
    "colab": {
     "base_uri": "https://localhost:8080/"
    },
    "id": "0_hpI-SNKqAA",
    "outputId": "88415710-2b74-4442-ba93-e1b47981f081",
    "ExecuteTime": {
     "end_time": "2024-06-05T15:50:56.500147Z",
     "start_time": "2024-06-05T15:50:56.496541Z"
    }
   },
   "outputs": [
    {
     "data": {
      "text/plain": "tensor([[0.0265, 0.5537, 0.0606, 0.3591],\n        [0.0323, 0.3840, 0.1272, 0.4565],\n        [0.0252, 0.2031, 0.0215, 0.7502],\n        [0.0100, 0.2302, 0.0221, 0.7377]])"
     },
     "execution_count": 9,
     "metadata": {},
     "output_type": "execute_result"
    }
   ],
   "source": [
    "scores = torch.nn.functional.softmax(scores, dim=1)\n",
    "scores"
   ]
  },
  {
   "cell_type": "markdown",
   "metadata": {
    "id": "HskCcOiRQlam"
   },
   "source": [
    "## Step 5 & 6\n",
    "\n",
    "* Multiply each value vector by the softmax score\n",
    "* Sum up the weighted value vectors\n",
    "\n"
   ]
  },
  {
   "cell_type": "code",
   "execution_count": 10,
   "metadata": {
    "colab": {
     "base_uri": "https://localhost:8080/"
    },
    "id": "aT3lZwy4TLK1",
    "outputId": "c0ca09e9-cce2-4ee0-c577-8e0dbfc013e5",
    "ExecuteTime": {
     "end_time": "2024-06-05T15:50:56.504298Z",
     "start_time": "2024-06-05T15:50:56.501287Z"
    }
   },
   "outputs": [
    {
     "data": {
      "text/plain": "(torch.Size([4, 4]), torch.Size([4, 7]))"
     },
     "execution_count": 10,
     "metadata": {},
     "output_type": "execute_result"
    }
   ],
   "source": [
    "scores.shape, values.shape"
   ]
  },
  {
   "cell_type": "code",
   "execution_count": 11,
   "metadata": {
    "colab": {
     "base_uri": "https://localhost:8080/"
    },
    "id": "wDsYOfEnHWVq",
    "outputId": "477a3083-d79c-41da-815c-694777f42879",
    "ExecuteTime": {
     "end_time": "2024-06-05T15:50:56.508990Z",
     "start_time": "2024-06-05T15:50:56.505304Z"
    }
   },
   "outputs": [
    {
     "data": {
      "text/plain": "tensor([[ 1.6010, -4.4839, -1.4389, -1.1487,  0.9007,  1.0535, -1.5615],\n        [ 1.7673, -4.2851, -1.2278, -0.9329,  1.0040,  1.1248, -1.1704],\n        [ 1.7807, -4.0994, -0.8241, -0.5968,  1.0571,  1.4221, -0.8688],\n        [ 1.7688, -4.1291, -0.8648, -0.6352,  1.0425,  1.4253, -0.9398]])"
     },
     "execution_count": 11,
     "metadata": {},
     "output_type": "execute_result"
    }
   ],
   "source": [
    "z = scores @ values\n",
    "z"
   ]
  },
  {
   "cell_type": "markdown",
   "metadata": {
    "id": "tbCd2yNhzGv5"
   },
   "source": [
    "# Multi-headed attention\n",
    "\n",
    "**GOAL**:\n",
    "1. Expand the model’s ability to focus on different positions\n",
    "2. Provide the attention layer multiple “representation subspaces”\n",
    "\n",
    "**Attention with $N$ just means repeating self attention algorithm $N$ times and joining the results**\n",
    "\n",
    "\n",
    "![](https://data-science-blog.com/wp-content/uploads/2022/01/mha_img_original.png)\n",
    "\n",
    "**Multi-headed attention steps:**\n",
    "1. Same as self-attention calculation, just n different times with different weight matrices\n",
    "2. Condense the $N$ z metrics down into a single matrix by concatenating the matrices then multiply them by an additional weights matrix `WO`\n",
    "\n",
    "Now the output z metrix is fed to the FFNN"
   ]
  },
  {
   "cell_type": "code",
   "execution_count": 12,
   "metadata": {
    "id": "99lM0p2IUd2k",
    "ExecuteTime": {
     "end_time": "2024-06-05T15:50:56.512704Z",
     "start_time": "2024-06-05T15:50:56.509995Z"
    }
   },
   "outputs": [],
   "source": [
    "from torch import Tensor\n",
    "import torch.nn.functional as f\n",
    "\n",
    "\n",
    "def scaled_dot_product_attention(query, key, value):\n",
    "  temp = query.bmm(key.transpose(1, 2))\n",
    "  scale = query.size(-1) ** 0.5\n",
    "  softmax = f.softmax(temp / scale, dim=-1)\n",
    "  return softmax.bmm(value)"
   ]
  },
  {
   "cell_type": "markdown",
   "metadata": {
    "id": "Sph09F-Qdlw1"
   },
   "source": [
    "## Now lets make attention head"
   ]
  },
  {
   "cell_type": "code",
   "execution_count": 13,
   "metadata": {
    "id": "MfKQevaDdrQu",
    "ExecuteTime": {
     "end_time": "2024-06-05T15:50:56.517058Z",
     "start_time": "2024-06-05T15:50:56.513709Z"
    }
   },
   "outputs": [],
   "source": [
    "import torch.nn as nn\n",
    "\n",
    "class AttentionHead(nn.Module):\n",
    "    def __init__(self, dim_in, dim_q, dim_k):\n",
    "        super().__init__()\n",
    "        # Fill in the missing parts of the constructor to initialize the query, key, and value linear transformations\n",
    "        # dim_in is the input dimension, dim_q and dim_k are the output dimensions for the queries and keys/values respectively\n",
    "        # Example: dim_in 512, dim_q = dim_k 64 in the paper\n",
    "        self.linear_q = nn.Linear(dim_in, dim_q)\n",
    "        self.linear_k = nn.Linear(dim_in, dim_k)\n",
    "        self.linear_v = nn.Linear(dim_in, dim_k)\n",
    "\n",
    "    def forward(self, query, key, value):\n",
    "        # Implement the forward pass by calling scaled_dot_product_attention function\n",
    "        # You need to transform the query, key, and value using the linear transformations defined in __init__\n",
    "        # Fill in with the correct method calls\n",
    "        query = self.linear_q(query)\n",
    "        key = self.linear_k(key)\n",
    "        value = self.linear_v(value)\n",
    "        \n",
    "        return scaled_dot_product_attention(query, key, value)"
   ]
  },
  {
   "cell_type": "markdown",
   "metadata": {
    "id": "ig3CKeuseEOs"
   },
   "source": [
    "## Multi Head Attention"
   ]
  },
  {
   "cell_type": "code",
   "execution_count": 14,
   "metadata": {
    "id": "L_kYFonCeD-y",
    "ExecuteTime": {
     "end_time": "2024-06-05T15:50:56.522939Z",
     "start_time": "2024-06-05T15:50:56.519180Z"
    }
   },
   "outputs": [],
   "source": [
    "class MultiHeadToAttention(nn.Module):\n",
    "    def __init__(self, number_of_heads, dim_in, dim_q, dim_k):\n",
    "        super().__init__()\n",
    "        # Initialize heads as multi-AttentionHead instances\n",
    "        # Initialize linear to combine the outputs of all heads into a single output\n",
    "        self.heads = nn.ModuleList([AttentionHead(dim_in, dim_q, dim_k) for _ in range(number_of_heads)])\n",
    "        self.linear = nn.Linear(number_of_heads * dim_k, dim_in)\n",
    "\n",
    "    def forward(self, query: Tensor, key: Tensor, value: Tensor):\n",
    "        # Concatenate outputs from all heads and apply the final linear transformation\n",
    "        concat_heads = torch.cat([head(query, key, value) for head in self.heads], dim=-1)\n",
    "        return self.linear(concat_heads)"
   ]
  },
  {
   "cell_type": "markdown",
   "metadata": {
    "id": "nk0KG1p0UeSV"
   },
   "source": [
    "## Positional Encoding\n",
    "\n",
    "A way to account for the order of the words in the input sequence. A transformer adds a vector to each input embedding which helps it determine the position of each word. <br>\n",
    "**Goal** : preserving information about the order of tokens  \n",
    "\n",
    "Positional Encoding they can either be learned or fixed a priori.\n",
    "\n",
    "Proposed approach from original paper : describe a simple scheme for fixed positional encodings based on sine and cosine functions\n",
    "\n",
    "![](https://miro.medium.com/v2/resize:fit:640/format:webp/1*C3a9RL6-SFC6fW8NGpJg5A.png)"
   ]
  },
  {
   "cell_type": "code",
   "execution_count": 15,
   "metadata": {
    "id": "q_AGKKflld67",
    "ExecuteTime": {
     "end_time": "2024-06-05T15:50:56.526756Z",
     "start_time": "2024-06-05T15:50:56.523943Z"
    }
   },
   "outputs": [],
   "source": [
    "def position_encoding(seq_len, dim_model, device):\n",
    "    # Define the position tensor 'pos' with dimensions appropriate for sequence length\n",
    "    pos = torch.arange(seq_len, dtype=torch.float).unsqueeze(1).to(device)\n",
    "\n",
    "    # Define the dimension tensor 'dim' suitable for the model dimensions\n",
    "    dim = torch.arange(0, dim_model, step=2, dtype=torch.float).to(device)\n",
    "\n",
    "    # Calculate the phase using the position and dimension tensors\n",
    "    phase = pos / (10000 ** (dim / dim_model))\n",
    "\n",
    "    # Return the sinusoidal position encoding\n",
    "    # Complete this line to select sin or cos based on even/odd index\n",
    "    return torch.cat([torch.sin(phase), torch.cos(phase)], dim=1)"
   ]
  },
  {
   "cell_type": "markdown",
   "metadata": {
    "id": "zB6Z4v4dnlYk"
   },
   "source": [
    "## Encoder Feed Forward"
   ]
  },
  {
   "cell_type": "code",
   "execution_count": 16,
   "metadata": {
    "id": "19MLi_k0nuZr",
    "ExecuteTime": {
     "end_time": "2024-06-05T15:50:56.530145Z",
     "start_time": "2024-06-05T15:50:56.527760Z"
    }
   },
   "outputs": [],
   "source": [
    "def feed_forward(dim_input = 512, dim_feedforward = 2048):\n",
    "    return nn.Sequential(nn.Linear(dim_input, dim_feedforward),\n",
    "                         nn.ReLU(),\n",
    "                         nn.Linear(dim_feedforward, dim_input)\n",
    "                         )"
   ]
  },
  {
   "cell_type": "markdown",
   "metadata": {
    "id": "ctJcODqZoNjm"
   },
   "source": [
    "## Encoder Residual\n",
    "\n",
    "From the original paper the author implementation"
   ]
  },
  {
   "cell_type": "code",
   "execution_count": 17,
   "metadata": {
    "id": "Z3jxUDJxoJrh",
    "ExecuteTime": {
     "end_time": "2024-06-05T15:50:56.533965Z",
     "start_time": "2024-06-05T15:50:56.531231Z"
    }
   },
   "outputs": [],
   "source": [
    "class Residual(nn.Module):\n",
    "  def __init__(self, sublayer, dimension, dropout = 0.1):\n",
    "    super().__init__()\n",
    "    self.sublayer = sublayer\n",
    "    self.norm = nn.LayerNorm(dimension)\n",
    "    self.dropout = nn.Dropout(dropout)\n",
    "\n",
    "  def forward(self, *tensors):\n",
    "    return self.norm(tensors[0] + self.dropout(self.sublayer(*tensors)))"
   ]
  },
  {
   "cell_type": "markdown",
   "metadata": {
    "id": "rbO7zQf6Z6oC"
   },
   "source": [
    "## Putting all together on encoder side\n",
    "\n",
    "![](https://jalammar.github.io/images/t/transformer_resideual_layer_norm_2.png)"
   ]
  },
  {
   "cell_type": "markdown",
   "metadata": {
    "id": "N_IWAB7fpdnX"
   },
   "source": [
    "## Putting the Encoder layer together"
   ]
  },
  {
   "cell_type": "code",
   "execution_count": 18,
   "metadata": {
    "id": "6mclItDepir9",
    "ExecuteTime": {
     "end_time": "2024-06-05T15:50:56.538023Z",
     "start_time": "2024-06-05T15:50:56.534970Z"
    }
   },
   "outputs": [],
   "source": [
    "class TransformerEncoderLayer(nn.Module):\n",
    "    def __init__(self, dim_model=512, num_heads=6, dim_feedforward=2048, dropout=0.1):\n",
    "        super().__init__()\n",
    "        # Define dimensions for query and key based on model dimension and number of heads\n",
    "        \n",
    "        # Initialize the MultiHeadAttention component with a residual connection and dropout\n",
    "        self.attention = Residual(MultiHeadToAttention(num_heads, dim_model, dim_model // num_heads, dim_model // num_heads), dim_model, dropout)\n",
    "\n",
    "        # Initialize the feedforward component with a residual connection and dropout\n",
    "        self.feed_forward = Residual(feed_forward(dim_model, dim_feedforward), dim_model, dropout)\n",
    "\n",
    "    def forward(self, src):\n",
    "        # Apply the attention mechanism to the source data\n",
    "        src = self.attention(src, src, src)\n",
    "\n",
    "        # Apply the feedforward network to the output of the attention mechanism\n",
    "        return self.feed_forward(src)"
   ]
  },
  {
   "cell_type": "markdown",
   "metadata": {
    "id": "HfQ17Qy2pubd"
   },
   "source": [
    "## Putting together transformer Encoder part"
   ]
  },
  {
   "cell_type": "code",
   "execution_count": 19,
   "metadata": {
    "id": "kwXf_WW-puz_",
    "ExecuteTime": {
     "end_time": "2024-06-05T15:50:56.542260Z",
     "start_time": "2024-06-05T15:50:56.539092Z"
    }
   },
   "outputs": [],
   "source": [
    "class TransformerEncoder(nn.Module):\n",
    "    def __init__(self, num_layers=12, dim_model=512, num_heads=4, dim_feedforward=2048, dropout=0.1):\n",
    "        super().__init__()\n",
    "        # Initialize a list of TransformerEncoderLayer instances\n",
    "        self.layers = nn.ModuleList([TransformerEncoderLayer(dim_model, num_heads, dim_feedforward, dropout) for _ in range(num_layers)])\n",
    "\n",
    "    def forward(self, src):\n",
    "        # Retrieve the sequence length and dimension from the source tensor\n",
    "        seq_len, dimension = src.shape[1], src.shape[2]\n",
    "\n",
    "        # Add position encoding to the source tensor\n",
    "        src += position_encoding(seq_len, dimension, device)\n",
    "\n",
    "        # Process each layer in the transformer encoder\n",
    "        for layer in self.layers:\n",
    "            src = layer(src)\n",
    "        return src"
   ]
  },
  {
   "cell_type": "markdown",
   "metadata": {
    "id": "T9iOQWX8aQn9"
   },
   "source": [
    "# The Decoder Side\n",
    "\n",
    "The encoder start by processing the input sequence. The output of the top encoder is then transformed into a set of attention vectors K and V. These are to be used by each decoder.\n",
    "\n",
    "\n",
    "![](https://jalammar.github.io/images/t/transformer_resideual_layer_norm_3.png)"
   ]
  },
  {
   "cell_type": "markdown",
   "metadata": {
    "id": "ehLixHKossPK"
   },
   "source": [
    "## Decoder layer\n",
    "\n",
    "The “Encoder-Decoder Attention” layer works just like multi-headed self-attention, except it creates its Queries matrix from the layer below it, and takes the Keys and Values matrix from the output of the encoder stack.\n",
    "\n",
    "**Task**: implement the decoder layer"
   ]
  },
  {
   "cell_type": "code",
   "execution_count": 20,
   "metadata": {
    "id": "D8Kpvt0Gsxiq",
    "ExecuteTime": {
     "end_time": "2024-06-05T15:50:56.546915Z",
     "start_time": "2024-06-05T15:50:56.543304Z"
    }
   },
   "outputs": [],
   "source": [
    "class TransformerDecoderLayer(nn.Module):\n",
    "    def __init__(\n",
    "        self,\n",
    "        dim_model: int = 512,\n",
    "        num_heads: int = 6,\n",
    "        dim_feedforward: int = 2048,\n",
    "        dropout: float = 0.1,\n",
    "    ):\n",
    "        super().__init__()\n",
    "        # init dim_q and dim_k as in the encoder\n",
    "        # Initialize the first self-attention layer with a residual connection\n",
    "        self.attention_1 = Residual(MultiHeadToAttention(num_heads, dim_model, dim_model // num_heads, dim_model // num_heads), dim_model, dropout)\n",
    "\n",
    "        # Initialize the second attention layer for interaction with the encoder output\n",
    "        self.attention_2 = Residual(MultiHeadToAttention(num_heads, dim_model, dim_model // num_heads, dim_model // num_heads), dim_model, dropout)\n",
    "\n",
    "        # Initialize the feed-forward network\n",
    "        self.feed_forward = Residual(feed_forward(dim_model, dim_feedforward), dim_model, dropout)\n",
    "\n",
    "    def forward(self, tgt: Tensor, memory: Tensor) -> Tensor:\n",
    "        # Self-attention mechanism\n",
    "        tgt = self.attention_1(tgt, tgt, tgt)\n",
    "\n",
    "        # Cross-attention mechanism where the decoder attends to the encoder's output\n",
    "        tgt = self.attention_2(tgt, memory, memory)\n",
    "\n",
    "        # Pass through the feed-forward network\n",
    "        return self.feed_forward(tgt)"
   ]
  },
  {
   "cell_type": "markdown",
   "metadata": {
    "id": "6g8J94rHsusT"
   },
   "source": [
    "## Full Transformer Decoder\n",
    "\n",
    "**Task**: implement the transformer decoder part class"
   ]
  },
  {
   "cell_type": "code",
   "execution_count": 40,
   "metadata": {
    "id": "EnXSvVUUs4sy",
    "ExecuteTime": {
     "end_time": "2024-06-05T15:55:58.196977Z",
     "start_time": "2024-06-05T15:55:58.191920Z"
    }
   },
   "outputs": [],
   "source": [
    "class TransformerDecoder(nn.Module):\n",
    "    def __init__(\n",
    "        self,\n",
    "        num_layers: int = 6,\n",
    "        dim_model: int = 512,\n",
    "        num_heads: int = 8,\n",
    "        dim_feedforward: int = 2048,\n",
    "        dropout: float = 0.1\n",
    "    ):\n",
    "        super().__init__()\n",
    "        # Initialize layers from TransformerDecoderLayer instances\n",
    "        self.layers = nn.ModuleList([TransformerDecoderLayer(dim_model, num_heads, dim_feedforward, dropout) for _ in range(num_layers)])\n",
    "        # Define the output linear transformation\n",
    "        self.linear = feed_forward(dim_model, dim_feedforward)\n",
    "\n",
    "    def forward(self, tgt: Tensor, memory: Tensor) -> Tensor:\n",
    "        # Calculate sequence length and dimension from the target tensor\n",
    "        seq_len, dimension = tgt.shape[1], tgt.shape[2]\n",
    "\n",
    "        # Add position encoding to the target tensor\n",
    "        tgt += position_encoding(seq_len, dimension, device)\n",
    "\n",
    "        # Process each layer in the transformer decoder\n",
    "        # Code here\n",
    "        for layer in self.layers:\n",
    "            tgt = layer(tgt, memory)\n",
    "\n",
    "        # Apply a softmax to the output of the final linear layer\n",
    "        tgt = self.linear(tgt)\n",
    "        tgt = f.softmax(tgt, dim=2)\n",
    "        return tgt"
   ]
  },
  {
   "cell_type": "markdown",
   "metadata": {
    "id": "B-6Uav2htlEF"
   },
   "source": [
    "## Full Transformer model\n",
    "\n",
    "**Task**:\n",
    "1. Assembly a full transformer (Encoder + Decoder)\n",
    "2. Implement the Transformer training loop\n",
    "3. Using dataset of your choice train the transformer just for one epoch\n"
   ]
  },
  {
   "cell_type": "code",
   "outputs": [],
   "source": [
    "import datasets\n",
    "import torchtext"
   ],
   "metadata": {
    "collapsed": false,
    "ExecuteTime": {
     "end_time": "2024-06-05T15:55:58.584102Z",
     "start_time": "2024-06-05T15:55:58.581078Z"
    }
   },
   "execution_count": 41
  },
  {
   "cell_type": "code",
   "outputs": [],
   "source": [
    "train_data, test_data = datasets.load_dataset(\"imdb\", split=[\"train\", \"test\"])\n",
    "\n",
    "## Get basic english tokenizer\n",
    "tokenizer = torchtext.data.utils.get_tokenizer(\"basic_english\")\n",
    "\n",
    "def tokenize_sample(sample, tokenizer, max_length=200):\n",
    "    tokens = tokenizer(sample[\"text\"])[:max_length]\n",
    "    length = len(tokens)\n",
    "    return {\"tokens\": tokens, \"length\": length}"
   ],
   "metadata": {
    "collapsed": false,
    "ExecuteTime": {
     "end_time": "2024-06-05T15:56:08.289708Z",
     "start_time": "2024-06-05T15:55:58.759134Z"
    }
   },
   "execution_count": 42
  },
  {
   "cell_type": "code",
   "outputs": [],
   "source": [
    "max_text_length = 128\n",
    "\n",
    "train_data = train_data.map(\n",
    "    tokenize_sample, fn_kwargs={\"tokenizer\": tokenizer, \"max_length\": max_text_length}\n",
    ")\n",
    "test_data = test_data.map(\n",
    "    tokenize_sample, fn_kwargs={\"tokenizer\": tokenizer, \"max_length\": max_text_length}\n",
    ")"
   ],
   "metadata": {
    "collapsed": false,
    "ExecuteTime": {
     "end_time": "2024-06-05T15:56:08.307031Z",
     "start_time": "2024-06-05T15:56:08.290733Z"
    }
   },
   "execution_count": 43
  },
  {
   "cell_type": "code",
   "outputs": [],
   "source": [
    "min_freq = 5\n",
    "special_tokens = [\"<unk>\", \"<pad>\"]\n",
    "\n",
    "vocab = torchtext.vocab.build_vocab_from_iterator(\n",
    "    train_data[\"tokens\"],\n",
    "    min_freq=min_freq,\n",
    "    specials=special_tokens,\n",
    ")\n",
    "\n",
    "unk_index = vocab[\"<unk>\"]\n",
    "pad_index = vocab[\"<pad>\"]\n",
    "vocab.set_default_index(unk_index)"
   ],
   "metadata": {
    "collapsed": false,
    "ExecuteTime": {
     "end_time": "2024-06-05T15:56:10.464985Z",
     "start_time": "2024-06-05T15:56:08.308036Z"
    }
   },
   "execution_count": 44
  },
  {
   "cell_type": "code",
   "outputs": [],
   "source": [
    "def encode_sample(example, vocab):\n",
    "    ids = vocab.lookup_indices(example[\"tokens\"])\n",
    "    return {\"ids\": ids}\n",
    "\n",
    "train_data = train_data.map(encode_sample, fn_kwargs={\"vocab\": vocab})\n",
    "test_data = test_data.map(encode_sample, fn_kwargs={\"vocab\": vocab})\n",
    "\n",
    "\n",
    "train_data = train_data.with_format(type=\"torch\", columns=[\"ids\", \"label\", \"length\"])\n",
    "test_data = test_data.with_format(type=\"torch\", columns=[\"ids\", \"label\", \"length\"])"
   ],
   "metadata": {
    "collapsed": false,
    "ExecuteTime": {
     "end_time": "2024-06-05T15:56:10.545671Z",
     "start_time": "2024-06-05T15:56:10.466003Z"
    }
   },
   "execution_count": 45
  },
  {
   "cell_type": "code",
   "outputs": [],
   "source": [
    "def get_collate_fn(pad_index):\n",
    "    def collate_fn(batch):\n",
    "        batch_ids = [i[\"ids\"] for i in batch]\n",
    "        batch_ids = nn.utils.rnn.pad_sequence(\n",
    "            batch_ids, padding_value=pad_index, batch_first=True\n",
    "        )\n",
    "        batch_length = [i[\"length\"] for i in batch]\n",
    "        batch_length = torch.stack(batch_length)\n",
    "        batch_label = [i[\"label\"] for i in batch]\n",
    "        batch_label = torch.stack(batch_label)\n",
    "        batch = {\"ids\": batch_ids, \"length\": batch_length, \"label\": batch_label}\n",
    "        return batch\n",
    "\n",
    "    return collate_fn\n",
    "\n",
    "def create_data_loader(dataset, batch_size, pad_index, shuffle=False):\n",
    "    collate_fn = get_collate_fn(pad_index)\n",
    "    data_loader = torch.utils.data.DataLoader(\n",
    "        dataset=dataset,\n",
    "        batch_size=batch_size,\n",
    "        collate_fn=collate_fn,\n",
    "        shuffle=shuffle,\n",
    "    )\n",
    "    return data_loader\n",
    "\n",
    "\n",
    "batch_size = 64\n",
    "\n",
    "train_data_loader = create_data_loader(train_data, batch_size, pad_index, shuffle=True)\n",
    "test_data_loader = create_data_loader(test_data, batch_size, pad_index)"
   ],
   "metadata": {
    "collapsed": false,
    "ExecuteTime": {
     "end_time": "2024-06-05T15:56:10.553909Z",
     "start_time": "2024-06-05T15:56:10.547798Z"
    }
   },
   "execution_count": 46
  },
  {
   "cell_type": "code",
   "outputs": [],
   "source": [
    "class Transformer(nn.Module):\n",
    "    def __init__(\n",
    "            self,\n",
    "            num_layers: int = 6,\n",
    "            dim_model: int = 512,\n",
    "            num_heads: int = 8,\n",
    "            dim_feedforward: int = 2048,\n",
    "            dropout: float = 0.1,\n",
    "            dim_target: int = 10\n",
    "    ):\n",
    "        super().__init__()\n",
    "        self.encoder = TransformerEncoder(num_layers, dim_model, num_heads, dim_feedforward, dropout)\n",
    "        self.decoder = TransformerDecoder(num_layers, dim_model, num_heads, dim_feedforward, dropout)\n",
    "        self.linear = nn.Linear(dim_model * max_text_length, dim_target)\n",
    "\n",
    "    def forward(self, src, tgt):\n",
    "        memory = self.encoder(src)\n",
    "        decoder_output = self.decoder(tgt, memory)\n",
    "        prediction = self.linear(decoder_output.view(batch_size, -1))\n",
    "        return prediction"
   ],
   "metadata": {
    "id": "UzfY-uEmtppU",
    "ExecuteTime": {
     "end_time": "2024-06-05T16:01:10.085127Z",
     "start_time": "2024-06-05T16:01:10.069900Z"
    }
   },
   "execution_count": 69
  },
  {
   "cell_type": "code",
   "outputs": [],
   "source": [
    "class TransformerNet(nn.Module):\n",
    "    def __init__(\n",
    "            self,\n",
    "            pad_index,\n",
    "            vocab_size,\n",
    "            num_layers: int = 8,\n",
    "            dim_model: int = 512,\n",
    "            num_heads: int = 8,\n",
    "            dim_feedforward: int = 2048,\n",
    "            dropout: float = 0.1,\n",
    "            dim_target: int = 10,\n",
    "    ):\n",
    "        super().__init__()\n",
    "        self.embedding = nn.Embedding(vocab_size, dim_model, padding_idx=pad_index)\n",
    "        self.transformer = Transformer(num_layers, dim_model, num_heads, dim_feedforward, dropout, dim_target)\n",
    "        \n",
    "    def forward(self, src):\n",
    "        src = self.embedding(src)\n",
    "        return self.transformer(src, src)"
   ],
   "metadata": {
    "collapsed": false,
    "ExecuteTime": {
     "end_time": "2024-06-05T16:01:11.558303Z",
     "start_time": "2024-06-05T16:01:11.544441Z"
    }
   },
   "execution_count": 70
  },
  {
   "cell_type": "code",
   "outputs": [],
   "source": [
    "vocab_size = len(vocab)\n",
    "embedding_dim = 512\n",
    "output_dim = len(train_data.unique(\"label\"))\n",
    "lr = 5e-4\n",
    "\n",
    "model = TransformerNet(pad_index, vocab_size, dim_target=output_dim).to(device)\n",
    "\n",
    "optimizer = optim.SGD(model.parameters(), lr=lr)\n",
    "criterion = nn.CrossEntropyLoss()"
   ],
   "metadata": {
    "collapsed": false,
    "ExecuteTime": {
     "end_time": "2024-06-05T16:01:14.414499Z",
     "start_time": "2024-06-05T16:01:13.654797Z"
    }
   },
   "execution_count": 71
  },
  {
   "cell_type": "code",
   "outputs": [],
   "source": [
    "def get_accuracy(prediction, label):\n",
    "    batch_size, _ = prediction.shape\n",
    "    predicted_classes = prediction.argmax(dim=-1)\n",
    "    correct_predictions = predicted_classes.eq(label).sum()\n",
    "    accuracy = correct_predictions / batch_size\n",
    "    return accuracy"
   ],
   "metadata": {
    "collapsed": false,
    "ExecuteTime": {
     "end_time": "2024-06-05T15:59:30.343078Z",
     "start_time": "2024-06-05T15:59:30.339875Z"
    }
   },
   "execution_count": 64
  },
  {
   "cell_type": "code",
   "outputs": [
    {
     "name": "stderr",
     "output_type": "stream",
     "text": [
      "C:\\Users\\sasha\\AppData\\Roaming\\Python\\Python311\\site-packages\\torch\\autograd\\__init__.py:266: UserWarning: Error detected in AddmmBackward0. Traceback of forward call that caused the error:\n",
      "  File \"<frozen runpy>\", line 198, in _run_module_as_main\n",
      "  File \"<frozen runpy>\", line 88, in _run_code\n",
      "  File \"C:\\ProgramData\\anaconda3\\Lib\\site-packages\\ipykernel_launcher.py\", line 17, in <module>\n",
      "    app.launch_new_instance()\n",
      "  File \"C:\\ProgramData\\anaconda3\\Lib\\site-packages\\traitlets\\config\\application.py\", line 992, in launch_instance\n",
      "    app.start()\n",
      "  File \"C:\\ProgramData\\anaconda3\\Lib\\site-packages\\ipykernel\\kernelapp.py\", line 701, in start\n",
      "    self.io_loop.start()\n",
      "  File \"C:\\ProgramData\\anaconda3\\Lib\\site-packages\\tornado\\platform\\asyncio.py\", line 195, in start\n",
      "    self.asyncio_loop.run_forever()\n",
      "  File \"C:\\ProgramData\\anaconda3\\Lib\\asyncio\\windows_events.py\", line 321, in run_forever\n",
      "    super().run_forever()\n",
      "  File \"C:\\ProgramData\\anaconda3\\Lib\\asyncio\\base_events.py\", line 607, in run_forever\n",
      "    self._run_once()\n",
      "  File \"C:\\ProgramData\\anaconda3\\Lib\\asyncio\\base_events.py\", line 1922, in _run_once\n",
      "    handle._run()\n",
      "  File \"C:\\ProgramData\\anaconda3\\Lib\\asyncio\\events.py\", line 80, in _run\n",
      "    self._context.run(self._callback, *self._args)\n",
      "  File \"C:\\ProgramData\\anaconda3\\Lib\\site-packages\\ipykernel\\kernelbase.py\", line 534, in dispatch_queue\n",
      "    await self.process_one()\n",
      "  File \"C:\\ProgramData\\anaconda3\\Lib\\site-packages\\ipykernel\\kernelbase.py\", line 523, in process_one\n",
      "    await dispatch(*args)\n",
      "  File \"C:\\ProgramData\\anaconda3\\Lib\\site-packages\\ipykernel\\kernelbase.py\", line 429, in dispatch_shell\n",
      "    await result\n",
      "  File \"C:\\ProgramData\\anaconda3\\Lib\\site-packages\\ipykernel\\kernelbase.py\", line 767, in execute_request\n",
      "    reply_content = await reply_content\n",
      "  File \"C:\\ProgramData\\anaconda3\\Lib\\site-packages\\ipykernel\\ipkernel.py\", line 429, in do_execute\n",
      "    res = shell.run_cell(\n",
      "  File \"C:\\ProgramData\\anaconda3\\Lib\\site-packages\\ipykernel\\zmqshell.py\", line 549, in run_cell\n",
      "    return super().run_cell(*args, **kwargs)\n",
      "  File \"C:\\ProgramData\\anaconda3\\Lib\\site-packages\\IPython\\core\\interactiveshell.py\", line 3051, in run_cell\n",
      "    result = self._run_cell(\n",
      "  File \"C:\\ProgramData\\anaconda3\\Lib\\site-packages\\IPython\\core\\interactiveshell.py\", line 3106, in _run_cell\n",
      "    result = runner(coro)\n",
      "  File \"C:\\ProgramData\\anaconda3\\Lib\\site-packages\\IPython\\core\\async_helpers.py\", line 129, in _pseudo_sync_runner\n",
      "    coro.send(None)\n",
      "  File \"C:\\ProgramData\\anaconda3\\Lib\\site-packages\\IPython\\core\\interactiveshell.py\", line 3311, in run_cell_async\n",
      "    has_raised = await self.run_ast_nodes(code_ast.body, cell_name,\n",
      "  File \"C:\\ProgramData\\anaconda3\\Lib\\site-packages\\IPython\\core\\interactiveshell.py\", line 3493, in run_ast_nodes\n",
      "    if await self.run_code(code, result, async_=asy):\n",
      "  File \"C:\\ProgramData\\anaconda3\\Lib\\site-packages\\IPython\\core\\interactiveshell.py\", line 3553, in run_code\n",
      "    exec(code_obj, self.user_global_ns, self.user_ns)\n",
      "  File \"C:\\Users\\sasha\\AppData\\Local\\Temp\\ipykernel_21004\\884384870.py\", line 11, in <module>\n",
      "    prediction = model(ids)\n",
      "  File \"C:\\Users\\sasha\\AppData\\Roaming\\Python\\Python311\\site-packages\\torch\\nn\\modules\\module.py\", line 1511, in _wrapped_call_impl\n",
      "    return self._call_impl(*args, **kwargs)\n",
      "  File \"C:\\Users\\sasha\\AppData\\Roaming\\Python\\Python311\\site-packages\\torch\\nn\\modules\\module.py\", line 1520, in _call_impl\n",
      "    return forward_call(*args, **kwargs)\n",
      "  File \"C:\\Users\\sasha\\AppData\\Local\\Temp\\ipykernel_21004\\2739639092.py\", line 19, in forward\n",
      "    return self.transformer(src, src)\n",
      "  File \"C:\\Users\\sasha\\AppData\\Roaming\\Python\\Python311\\site-packages\\torch\\nn\\modules\\module.py\", line 1511, in _wrapped_call_impl\n",
      "    return self._call_impl(*args, **kwargs)\n",
      "  File \"C:\\Users\\sasha\\AppData\\Roaming\\Python\\Python311\\site-packages\\torch\\nn\\modules\\module.py\", line 1520, in _call_impl\n",
      "    return forward_call(*args, **kwargs)\n",
      "  File \"C:\\Users\\sasha\\AppData\\Local\\Temp\\ipykernel_21004\\2310970084.py\", line 17, in forward\n",
      "    memory = self.encoder(src)\n",
      "  File \"C:\\Users\\sasha\\AppData\\Roaming\\Python\\Python311\\site-packages\\torch\\nn\\modules\\module.py\", line 1511, in _wrapped_call_impl\n",
      "    return self._call_impl(*args, **kwargs)\n",
      "  File \"C:\\Users\\sasha\\AppData\\Roaming\\Python\\Python311\\site-packages\\torch\\nn\\modules\\module.py\", line 1520, in _call_impl\n",
      "    return forward_call(*args, **kwargs)\n",
      "  File \"C:\\Users\\sasha\\AppData\\Local\\Temp\\ipykernel_21004\\746722767.py\", line 16, in forward\n",
      "    src = layer(src)\n",
      "  File \"C:\\Users\\sasha\\AppData\\Roaming\\Python\\Python311\\site-packages\\torch\\nn\\modules\\module.py\", line 1511, in _wrapped_call_impl\n",
      "    return self._call_impl(*args, **kwargs)\n",
      "  File \"C:\\Users\\sasha\\AppData\\Roaming\\Python\\Python311\\site-packages\\torch\\nn\\modules\\module.py\", line 1520, in _call_impl\n",
      "    return forward_call(*args, **kwargs)\n",
      "  File \"C:\\Users\\sasha\\AppData\\Local\\Temp\\ipykernel_21004\\2885062086.py\", line 14, in forward\n",
      "    src = self.attention(src, src, src)\n",
      "  File \"C:\\Users\\sasha\\AppData\\Roaming\\Python\\Python311\\site-packages\\torch\\nn\\modules\\module.py\", line 1511, in _wrapped_call_impl\n",
      "    return self._call_impl(*args, **kwargs)\n",
      "  File \"C:\\Users\\sasha\\AppData\\Roaming\\Python\\Python311\\site-packages\\torch\\nn\\modules\\module.py\", line 1520, in _call_impl\n",
      "    return forward_call(*args, **kwargs)\n",
      "  File \"C:\\Users\\sasha\\AppData\\Local\\Temp\\ipykernel_21004\\1349968644.py\", line 9, in forward\n",
      "    return self.norm(tensors[0] + self.dropout(self.sublayer(*tensors)))\n",
      "  File \"C:\\Users\\sasha\\AppData\\Roaming\\Python\\Python311\\site-packages\\torch\\nn\\modules\\module.py\", line 1511, in _wrapped_call_impl\n",
      "    return self._call_impl(*args, **kwargs)\n",
      "  File \"C:\\Users\\sasha\\AppData\\Roaming\\Python\\Python311\\site-packages\\torch\\nn\\modules\\module.py\", line 1520, in _call_impl\n",
      "    return forward_call(*args, **kwargs)\n",
      "  File \"C:\\Users\\sasha\\AppData\\Local\\Temp\\ipykernel_21004\\3536954186.py\", line 11, in forward\n",
      "    concat_heads = torch.cat([head(query, key, value) for head in self.heads], dim=-1)\n",
      "  File \"C:\\Users\\sasha\\AppData\\Local\\Temp\\ipykernel_21004\\3536954186.py\", line 11, in <listcomp>\n",
      "    concat_heads = torch.cat([head(query, key, value) for head in self.heads], dim=-1)\n",
      "  File \"C:\\Users\\sasha\\AppData\\Roaming\\Python\\Python311\\site-packages\\torch\\nn\\modules\\module.py\", line 1511, in _wrapped_call_impl\n",
      "    return self._call_impl(*args, **kwargs)\n",
      "  File \"C:\\Users\\sasha\\AppData\\Roaming\\Python\\Python311\\site-packages\\torch\\nn\\modules\\module.py\", line 1520, in _call_impl\n",
      "    return forward_call(*args, **kwargs)\n",
      "  File \"C:\\Users\\sasha\\AppData\\Local\\Temp\\ipykernel_21004\\1895992567.py\", line 19, in forward\n",
      "    value = self.linear_v(value)\n",
      "  File \"C:\\Users\\sasha\\AppData\\Roaming\\Python\\Python311\\site-packages\\torch\\nn\\modules\\module.py\", line 1511, in _wrapped_call_impl\n",
      "    return self._call_impl(*args, **kwargs)\n",
      "  File \"C:\\Users\\sasha\\AppData\\Roaming\\Python\\Python311\\site-packages\\torch\\nn\\modules\\module.py\", line 1520, in _call_impl\n",
      "    return forward_call(*args, **kwargs)\n",
      "  File \"C:\\Users\\sasha\\AppData\\Roaming\\Python\\Python311\\site-packages\\torch\\nn\\modules\\linear.py\", line 116, in forward\n",
      "    return F.linear(input, self.weight, self.bias)\n",
      " (Triggered internally at ..\\torch\\csrc\\autograd\\python_anomaly_mode.cpp:118.)\n",
      "  Variable._execution_engine.run_backward(  # Calls into the C++ engine to run the backward pass\n"
     ]
    },
    {
     "ename": "RuntimeError",
     "evalue": "one of the variables needed for gradient computation has been modified by an inplace operation: [torch.cuda.FloatTensor [8192, 512]], which is output 0 of AsStridedBackward0, is at version 2; expected version 1 instead. Hint: the backtrace further above shows the operation that failed to compute its gradient. The variable in question was changed in there or anywhere later. Good luck!",
     "output_type": "error",
     "traceback": [
      "\u001B[1;31m---------------------------------------------------------------------------\u001B[0m",
      "\u001B[1;31mRuntimeError\u001B[0m                              Traceback (most recent call last)",
      "Cell \u001B[1;32mIn[72], line 15\u001B[0m\n\u001B[0;32m     12\u001B[0m loss \u001B[38;5;241m=\u001B[39m criterion(prediction, label)\n\u001B[0;32m     13\u001B[0m accuracy \u001B[38;5;241m=\u001B[39m get_accuracy(prediction, label)\n\u001B[1;32m---> 15\u001B[0m loss\u001B[38;5;241m.\u001B[39mbackward()\n\u001B[0;32m     16\u001B[0m optimizer\u001B[38;5;241m.\u001B[39mstep()\n\u001B[0;32m     18\u001B[0m epoch_losses\u001B[38;5;241m.\u001B[39mappend(loss\u001B[38;5;241m.\u001B[39mitem())\n",
      "File \u001B[1;32m~\\AppData\\Roaming\\Python\\Python311\\site-packages\\torch\\_tensor.py:522\u001B[0m, in \u001B[0;36mTensor.backward\u001B[1;34m(self, gradient, retain_graph, create_graph, inputs)\u001B[0m\n\u001B[0;32m    512\u001B[0m \u001B[38;5;28;01mif\u001B[39;00m has_torch_function_unary(\u001B[38;5;28mself\u001B[39m):\n\u001B[0;32m    513\u001B[0m     \u001B[38;5;28;01mreturn\u001B[39;00m handle_torch_function(\n\u001B[0;32m    514\u001B[0m         Tensor\u001B[38;5;241m.\u001B[39mbackward,\n\u001B[0;32m    515\u001B[0m         (\u001B[38;5;28mself\u001B[39m,),\n\u001B[1;32m   (...)\u001B[0m\n\u001B[0;32m    520\u001B[0m         inputs\u001B[38;5;241m=\u001B[39minputs,\n\u001B[0;32m    521\u001B[0m     )\n\u001B[1;32m--> 522\u001B[0m torch\u001B[38;5;241m.\u001B[39mautograd\u001B[38;5;241m.\u001B[39mbackward(\n\u001B[0;32m    523\u001B[0m     \u001B[38;5;28mself\u001B[39m, gradient, retain_graph, create_graph, inputs\u001B[38;5;241m=\u001B[39minputs\n\u001B[0;32m    524\u001B[0m )\n",
      "File \u001B[1;32m~\\AppData\\Roaming\\Python\\Python311\\site-packages\\torch\\autograd\\__init__.py:266\u001B[0m, in \u001B[0;36mbackward\u001B[1;34m(tensors, grad_tensors, retain_graph, create_graph, grad_variables, inputs)\u001B[0m\n\u001B[0;32m    261\u001B[0m     retain_graph \u001B[38;5;241m=\u001B[39m create_graph\n\u001B[0;32m    263\u001B[0m \u001B[38;5;66;03m# The reason we repeat the same comment below is that\u001B[39;00m\n\u001B[0;32m    264\u001B[0m \u001B[38;5;66;03m# some Python versions print out the first line of a multi-line function\u001B[39;00m\n\u001B[0;32m    265\u001B[0m \u001B[38;5;66;03m# calls in the traceback and some print out the last line\u001B[39;00m\n\u001B[1;32m--> 266\u001B[0m Variable\u001B[38;5;241m.\u001B[39m_execution_engine\u001B[38;5;241m.\u001B[39mrun_backward(  \u001B[38;5;66;03m# Calls into the C++ engine to run the backward pass\u001B[39;00m\n\u001B[0;32m    267\u001B[0m     tensors,\n\u001B[0;32m    268\u001B[0m     grad_tensors_,\n\u001B[0;32m    269\u001B[0m     retain_graph,\n\u001B[0;32m    270\u001B[0m     create_graph,\n\u001B[0;32m    271\u001B[0m     inputs,\n\u001B[0;32m    272\u001B[0m     allow_unreachable\u001B[38;5;241m=\u001B[39m\u001B[38;5;28;01mTrue\u001B[39;00m,\n\u001B[0;32m    273\u001B[0m     accumulate_grad\u001B[38;5;241m=\u001B[39m\u001B[38;5;28;01mTrue\u001B[39;00m,\n\u001B[0;32m    274\u001B[0m )\n",
      "\u001B[1;31mRuntimeError\u001B[0m: one of the variables needed for gradient computation has been modified by an inplace operation: [torch.cuda.FloatTensor [8192, 512]], which is output 0 of AsStridedBackward0, is at version 2; expected version 1 instead. Hint: the backtrace further above shows the operation that failed to compute its gradient. The variable in question was changed in there or anywhere later. Good luck!"
     ]
    }
   ],
   "source": [
    "n_epochs = 1\n",
    "for ep in range(n_epochs):\n",
    "    model.train()\n",
    "    epoch_losses = []\n",
    "    epoch_accs = []\n",
    "    for batch in train_data_loader:\n",
    "        optimizer.zero_grad()\n",
    "        ids = batch[\"ids\"].to(device)\n",
    "        label = batch[\"label\"].to(device)\n",
    "\n",
    "        prediction = model(ids)\n",
    "        loss = criterion(prediction, label)\n",
    "        accuracy = get_accuracy(prediction, label)\n",
    "\n",
    "        loss.backward()\n",
    "        optimizer.step()\n",
    "\n",
    "        epoch_losses.append(loss.item())\n",
    "        epoch_accs.append(accuracy.item())\n",
    "    print(f'[Epoch {ep}] Loss: {np.mean(epoch_losses)}, Acc: {np.mean(epoch_accs)}')"
   ],
   "metadata": {
    "collapsed": false,
    "ExecuteTime": {
     "end_time": "2024-06-05T16:02:06.075582Z",
     "start_time": "2024-06-05T16:01:16.625191Z"
    }
   },
   "execution_count": 72
  },
  {
   "cell_type": "code",
   "outputs": [],
   "source": [],
   "metadata": {
    "collapsed": false,
    "ExecuteTime": {
     "end_time": "2024-06-05T15:51:13.346924Z",
     "start_time": "2024-06-05T15:51:13.346924Z"
    }
   }
  }
 ],
 "metadata": {
  "accelerator": "GPU",
  "colab": {
   "provenance": []
  },
  "gpuClass": "standard",
  "kernelspec": {
   "name": "python3",
   "language": "python",
   "display_name": "Python 3 (ipykernel)"
  },
  "language_info": {
   "name": "python"
  }
 },
 "nbformat": 4,
 "nbformat_minor": 0
}
